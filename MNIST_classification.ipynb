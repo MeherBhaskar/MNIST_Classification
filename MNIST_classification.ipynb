{
  "nbformat": 4,
  "nbformat_minor": 0,
  "metadata": {
    "colab": {
      "name": "MNIST classification",
      "provenance": [],
      "authorship_tag": "ABX9TyPZQUejXuoN11Yl0RapFP4s",
      "include_colab_link": true
    },
    "kernelspec": {
      "name": "python3",
      "display_name": "Python 3"
    },
    "accelerator": "GPU"
  },
  "cells": [
    {
      "cell_type": "markdown",
      "metadata": {
        "id": "view-in-github",
        "colab_type": "text"
      },
      "source": [
        "<a href=\"https://colab.research.google.com/github/MeherBhaskar/MNIST_Classification/blob/master/MNIST_classification.ipynb\" target=\"_parent\"><img src=\"https://colab.research.google.com/assets/colab-badge.svg\" alt=\"Open In Colab\"/></a>"
      ]
    },
    {
      "cell_type": "code",
      "metadata": {
        "id": "RjL5X1Y2vKlG",
        "colab_type": "code",
        "colab": {
          "base_uri": "https://localhost:8080/",
          "height": 34
        },
        "outputId": "ca155561-b8af-4383-fddf-d2a8c081c94a"
      },
      "source": [
        "import keras\n",
        "from keras.datasets import mnist "
      ],
      "execution_count": 1,
      "outputs": [
        {
          "output_type": "stream",
          "text": [
            "Using TensorFlow backend.\n"
          ],
          "name": "stderr"
        }
      ]
    },
    {
      "cell_type": "code",
      "metadata": {
        "id": "cmnHXuT0yM-d",
        "colab_type": "code",
        "colab": {
          "base_uri": "https://localhost:8080/",
          "height": 51
        },
        "outputId": "f57e16a7-a9e0-48ae-c88b-74c1ebd489d9"
      },
      "source": [
        "(x_train, y_train), (x_test, y_test) = mnist.load_data()"
      ],
      "execution_count": 2,
      "outputs": [
        {
          "output_type": "stream",
          "text": [
            "Downloading data from https://s3.amazonaws.com/img-datasets/mnist.npz\n",
            "11493376/11490434 [==============================] - 1s 0us/step\n"
          ],
          "name": "stdout"
        }
      ]
    },
    {
      "cell_type": "markdown",
      "metadata": {
        "id": "yoM3V_Xa8Hyd",
        "colab_type": "text"
      },
      "source": [
        "## Check data\n"
      ]
    },
    {
      "cell_type": "code",
      "metadata": {
        "id": "ZdsSFrYVyOpZ",
        "colab_type": "code",
        "colab": {
          "base_uri": "https://localhost:8080/",
          "height": 332
        },
        "outputId": "8e4ca88b-1e51-4c3f-bf39-6c093738aa50"
      },
      "source": [
        "import cv2\n",
        "import numpy as np\n",
        "from google.colab.patches import cv2_imshow\n",
        "\n",
        "for i in range(0,7):\n",
        "  rand = np.random.randint(0, len(x_train))\n",
        "  image = x_train[rand]\n",
        "  print('Image of {}'.format(str(y_train[rand])))\n",
        "  cv2_imshow(image)\n"
      ],
      "execution_count": 3,
      "outputs": [
        {
          "output_type": "stream",
          "text": [
            "Image of 6\n"
          ],
          "name": "stdout"
        },
        {
          "output_type": "display_data",
          "data": {
            "image/png": "[encoded data removed]",
            "text/plain": [
              "<PIL.Image.Image image mode=L size=28x28 at 0x7F84E3442E48>"
            ]
          },
          "metadata": {
            "tags": []
          }
        },
        {
          "output_type": "stream",
          "text": [
            "Image of 8\n"
          ],
          "name": "stdout"
        },
        {
          "output_type": "display_data",
          "data": {
            "image/png": "[encoded data removed]",
            "text/plain": [
              "<PIL.Image.Image image mode=L size=28x28 at 0x7F84D9F922E8>"
            ]
          },
          "metadata": {
            "tags": []
          }
        },
        {
          "output_type": "stream",
          "text": [
            "Image of 6\n"
          ],
          "name": "stdout"
        },
        {
          "output_type": "display_data",
          "data": {
            "image/png": "[encoded data removed]",
            "text/plain": [
              "<PIL.Image.Image image mode=L size=28x28 at 0x7F84E3442E48>"
            ]
          },
          "metadata": {
            "tags": []
          }
        },
        {
          "output_type": "stream",
          "text": [
            "Image of 0\n"
          ],
          "name": "stdout"
        },
        {
          "output_type": "display_data",
          "data": {
            "image/png": "[encoded data removed]",
            "text/plain": [
              "<PIL.Image.Image image mode=L size=28x28 at 0x7F84D9FA16A0>"
            ]
          },
          "metadata": {
            "tags": []
          }
        },
        {
          "output_type": "stream",
          "text": [
            "Image of 5\n"
          ],
          "name": "stdout"
        },
        {
          "output_type": "display_data",
          "data": {
            "image/png": "[encoded data removed]",
            "text/plain": [
              "<PIL.Image.Image image mode=L size=28x28 at 0x7F84D9FA16A0>"
            ]
          },
          "metadata": {
            "tags": []
          }
        },
        {
          "output_type": "stream",
          "text": [
            "Image of 7\n"
          ],
          "name": "stdout"
        },
        {
          "output_type": "display_data",
          "data": {
            "image/png": "[encoded data removed]",
            "text/plain": [
              "<PIL.Image.Image image mode=L size=28x28 at 0x7F84D9FA16A0>"
            ]
          },
          "metadata": {
            "tags": []
          }
        },
        {
          "output_type": "stream",
          "text": [
            "Image of 8\n"
          ],
          "name": "stdout"
        },
        {
          "output_type": "display_data",
          "data": {
            "image/png": "[encoded data removed]",
            "text/plain": [
              "<PIL.Image.Image image mode=L size=28x28 at 0x7F84D9FA16A0>"
            ]
          },
          "metadata": {
            "tags": []
          }
        }
      ]
    },
    {
      "cell_type": "markdown",
      "metadata": {
        "id": "kJoHK2zb8RUa",
        "colab_type": "text"
      },
      "source": [
        "# Format images so that they can be given as imput to Keras"
      ]
    },
    {
      "cell_type": "code",
      "metadata": {
        "id": "HWuAKv_Z17Ik",
        "colab_type": "code",
        "colab": {
          "base_uri": "https://localhost:8080/",
          "height": 68
        },
        "outputId": "22058b99-0ea7-4e64-e117-c432dae6b8d3"
      },
      "source": [
        "print(x_train.shape)\n",
        "x_train = x_train.reshape(x_train.shape[0],x_train.shape[1],x_train.shape[2],1)\n",
        "x_test = x_test.reshape(x_test.shape[0],x_test.shape[1],x_test.shape[2],1)\n",
        "print('Shape after formating', x_train.shape)\n",
        "\n",
        "img_shape = (x_train.shape[1], x_train.shape[2], 1)\n",
        "print(img_shape)\n",
        "\n",
        "x_train = x_train.astype(np.float32)\n",
        "x_test = x_test.astype(np.float32)\n",
        "\n",
        "x_train/=255\n",
        "x_test/=255"
      ],
      "execution_count": 4,
      "outputs": [
        {
          "output_type": "stream",
          "text": [
            "(60000, 28, 28)\n",
            "Shape after formating (60000, 28, 28, 1)\n",
            "(28, 28, 1)\n"
          ],
          "name": "stdout"
        }
      ]
    },
    {
      "cell_type": "code",
      "metadata": {
        "id": "h1p8073r2vW3",
        "colab_type": "code",
        "colab": {}
      },
      "source": [
        "from keras.utils import np_utils\n",
        "\n",
        "y_train = np_utils.to_categorical(y_train)\n",
        "y_test = np_utils.to_categorical(y_test)\n",
        "\n",
        "num_classes = y_train.shape[1]\n",
        "num_pixels = x_train.shape[1]*x_train.shape[2]\n"
      ],
      "execution_count": 5,
      "outputs": []
    },
    {
      "cell_type": "markdown",
      "metadata": {
        "id": "UYhL_ntz8aAR",
        "colab_type": "text"
      },
      "source": [
        "# Build and Train the Model"
      ]
    },
    {
      "cell_type": "code",
      "metadata": {
        "id": "PvVBFxmG8b4E",
        "colab_type": "code",
        "colab": {
          "base_uri": "https://localhost:8080/",
          "height": 442
        },
        "outputId": "cae84435-5b25-44c2-99f1-a1928f734563"
      },
      "source": [
        "import keras\n",
        "from keras.models import Sequential\n",
        "from keras.layers import Dense, Dropout, Flatten, Conv2D, MaxPooling2D\n",
        "from keras import backend as K\n",
        "from keras.optimizers import SGD\n",
        "\n",
        "## Build the model\n",
        "\n",
        "model = Sequential()\n",
        "model.add(Conv2D(32, (3,3), activation = 'relu', input_shape = img_shape))\n",
        "model.add(Conv2D(64, (3,3), activation = 'relu'))\n",
        "model.add(MaxPooling2D(pool_size = (2,2)))\n",
        "model.add(Dropout(0.25))\n",
        "model.add(Flatten())\n",
        "model.add(Dense(128, activation = 'relu'))\n",
        "model.add(Dropout(0.5))\n",
        "model.add(Dense(num_classes, activation = 'softmax'))\n",
        "\n",
        "model.compile(loss = 'categorical_crossentropy', optimizer = SGD(0.01), metrics = ['accuracy'])\n",
        "print(model.summary())"
      ],
      "execution_count": 6,
      "outputs": [
        {
          "output_type": "stream",
          "text": [
            "Model: \"sequential_1\"\n",
            "_________________________________________________________________\n",
            "Layer (type)                 Output Shape              Param #   \n",
            "=================================================================\n",
            "conv2d_1 (Conv2D)            (None, 26, 26, 32)        320       \n",
            "_________________________________________________________________\n",
            "conv2d_2 (Conv2D)            (None, 24, 24, 64)        18496     \n",
            "_________________________________________________________________\n",
            "max_pooling2d_1 (MaxPooling2 (None, 12, 12, 64)        0         \n",
            "_________________________________________________________________\n",
            "dropout_1 (Dropout)          (None, 12, 12, 64)        0         \n",
            "_________________________________________________________________\n",
            "flatten_1 (Flatten)          (None, 9216)              0         \n",
            "_________________________________________________________________\n",
            "dense_1 (Dense)              (None, 128)               1179776   \n",
            "_________________________________________________________________\n",
            "dropout_2 (Dropout)          (None, 128)               0         \n",
            "_________________________________________________________________\n",
            "dense_2 (Dense)              (None, 10)                1290      \n",
            "=================================================================\n",
            "Total params: 1,199,882\n",
            "Trainable params: 1,199,882\n",
            "Non-trainable params: 0\n",
            "_________________________________________________________________\n",
            "None\n"
          ],
          "name": "stdout"
        }
      ]
    },
    {
      "cell_type": "code",
      "metadata": {
        "id": "l1xflbI5-A-P",
        "colab_type": "code",
        "colab": {
          "base_uri": "https://localhost:8080/",
          "height": 411
        },
        "outputId": "e33fa7e4-f10e-4958-c2cd-ef221cbefd8a"
      },
      "source": [
        "# Train the model\n",
        "\n",
        "batch_size = 64\n",
        "epochs = 10\n",
        "\n",
        "history = model.fit(x_train, y_train,\n",
        "                    batch_size = batch_size,\n",
        "                    epochs = epochs,\n",
        "                    verbose = 1,\n",
        "                    validation_data = (x_test, y_test))\n",
        "score = model.evaluate(x_test, y_test, verbose = 1)"
      ],
      "execution_count": 7,
      "outputs": [
        {
          "output_type": "stream",
          "text": [
            "Train on 60000 samples, validate on 10000 samples\n",
            "Epoch 1/10\n",
            "60000/60000 [==============================] - 11s 178us/step - loss: 0.7721 - accuracy: 0.7580 - val_loss: 0.2562 - val_accuracy: 0.9250\n",
            "Epoch 2/10\n",
            "60000/60000 [==============================] - 4s 74us/step - loss: 0.3631 - accuracy: 0.8877 - val_loss: 0.1909 - val_accuracy: 0.9416\n",
            "Epoch 3/10\n",
            "60000/60000 [==============================] - 4s 73us/step - loss: 0.2983 - accuracy: 0.9101 - val_loss: 0.1574 - val_accuracy: 0.9566\n",
            "Epoch 4/10\n",
            "60000/60000 [==============================] - 4s 73us/step - loss: 0.2555 - accuracy: 0.9230 - val_loss: 0.1276 - val_accuracy: 0.9642\n",
            "Epoch 5/10\n",
            "60000/60000 [==============================] - 4s 73us/step - loss: 0.2240 - accuracy: 0.9329 - val_loss: 0.1121 - val_accuracy: 0.9668\n",
            "Epoch 6/10\n",
            "60000/60000 [==============================] - 4s 73us/step - loss: 0.1991 - accuracy: 0.9409 - val_loss: 0.0967 - val_accuracy: 0.9699\n",
            "Epoch 7/10\n",
            "60000/60000 [==============================] - 4s 72us/step - loss: 0.1757 - accuracy: 0.9476 - val_loss: 0.0868 - val_accuracy: 0.9738\n",
            "Epoch 8/10\n",
            "60000/60000 [==============================] - 4s 74us/step - loss: 0.1564 - accuracy: 0.9527 - val_loss: 0.0760 - val_accuracy: 0.9771\n",
            "Epoch 9/10\n",
            "60000/60000 [==============================] - 4s 73us/step - loss: 0.1442 - accuracy: 0.9571 - val_loss: 0.0692 - val_accuracy: 0.9790\n",
            "Epoch 10/10\n",
            "60000/60000 [==============================] - 4s 73us/step - loss: 0.1283 - accuracy: 0.9614 - val_loss: 0.0619 - val_accuracy: 0.9807\n",
            "10000/10000 [==============================] - 1s 63us/step\n"
          ],
          "name": "stdout"
        }
      ]
    },
    {
      "cell_type": "code",
      "metadata": {
        "id": "lz1-I9FI_XW6",
        "colab_type": "code",
        "colab": {
          "base_uri": "https://localhost:8080/",
          "height": 51
        },
        "outputId": "21c30282-85c1-488a-a923-62d705e9fed8"
      },
      "source": [
        "print('Test Loss : {}'.format(score[0]))\n",
        "print('Test Accuracy : {}'.format(score[1]))"
      ],
      "execution_count": 8,
      "outputs": [
        {
          "output_type": "stream",
          "text": [
            "Test Loss : 0.061851457875501364\n",
            "Test Accuracy : 0.9807000160217285\n"
          ],
          "name": "stdout"
        }
      ]
    },
    {
      "cell_type": "markdown",
      "metadata": {
        "id": "z-wymX2EApuJ",
        "colab_type": "text"
      },
      "source": [
        "# Plot loss, accuracy charts  "
      ]
    },
    {
      "cell_type": "code",
      "metadata": {
        "id": "z04EkWA6_hjz",
        "colab_type": "code",
        "colab": {
          "base_uri": "https://localhost:8080/",
          "height": 281
        },
        "outputId": "406d31a0-733d-41f7-8d78-7b715cf46c65"
      },
      "source": [
        "import matplotlib.pyplot as plt\n",
        "\n",
        "history_dic = history.history\n",
        "\n",
        "loss_vals = history_dic['loss']\n",
        "val_loss_vals = history_dic['val_loss']\n",
        "epochs = range(1, len(loss_vals)+1)\n",
        "\n",
        "line1 = plt.plot(epochs, val_loss_vals, label = 'Test/Validation loss')\n",
        "line2 = plt.plot(epochs, loss_vals, label = 'Training Loss')\n",
        "plt.setp(line1, linewidth=2.0, marker = '.', markersize = 10)\n",
        "plt.setp(line2, linewidth=2.0, marker = '.', markersize = 10)\n",
        "\n",
        "plt.xlabel('Epochs')\n",
        "plt.ylabel('Loss')\n",
        "plt.grid(True)\n",
        "plt.legend()\n",
        "plt.show()"
      ],
      "execution_count": 15,
      "outputs": [
        {
          "output_type": "display_data",
          "data": {
            "image/png": "[encoded data removed]",
            "text/plain": [
              "<Figure size 432x288 with 1 Axes>"
            ]
          },
          "metadata": {
            "tags": [],
            "needs_background": "light"
          }
        }
      ]
    },
    {
      "cell_type": "code",
      "metadata": {
        "id": "kiJU_mmNB68Z",
        "colab_type": "code",
        "colab": {
          "base_uri": "https://localhost:8080/",
          "height": 279
        },
        "outputId": "774e5ab8-4693-4183-e952-290cb9fcbce5"
      },
      "source": [
        "import matplotlib.pyplot as plt\n",
        "\n",
        "history_dic = history.history\n",
        "\n",
        "acc_vals = history_dic['accuracy']\n",
        "val_acc_vals = history_dic['val_accuracy']\n",
        "epochs = range(1, len(acc_vals)+1)\n",
        "\n",
        "line1 = plt.plot(epochs, val_acc_vals, label = 'Test/Validation Accuracy')\n",
        "line2 = plt.plot(epochs, acc_vals, label = 'Training Accuracy')\n",
        "plt.setp(line1, linewidth=2.0, marker = '.', markersize = 10)\n",
        "plt.setp(line2, linewidth=2.0, marker = '.', markersize = 10)\n",
        "\n",
        "plt.xlabel('Epochs')\n",
        "plt.ylabel('Loss')\n",
        "plt.grid(True)\n",
        "plt.legend()\n",
        "plt.show()"
      ],
      "execution_count": 18,
      "outputs": [
        {
          "output_type": "display_data",
          "data": {
            "image/png": "[encoded data removed]",
            "text/plain": [
              "<Figure size 432x288 with 1 Axes>"
            ]
          },
          "metadata": {
            "tags": [],
            "needs_background": "light"
          }
        }
      ]
    },
    {
      "cell_type": "code",
      "metadata": {
        "id": "KhhvMTekCa7V",
        "colab_type": "code",
        "colab": {}
      },
      "source": [
        ""
      ],
      "execution_count": null,
      "outputs": []
    }
  ]
}